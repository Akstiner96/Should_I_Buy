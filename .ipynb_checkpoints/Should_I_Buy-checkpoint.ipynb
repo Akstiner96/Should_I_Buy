{
 "cells": [
  {
   "cell_type": "markdown",
   "metadata": {},
   "source": [
    "# Stock Choice\n"
   ]
  },
  {
   "cell_type": "markdown",
   "metadata": {},
   "source": [
    "Stock of choice: The COVID Decimator, CLX, better known as Clorox"
   ]
  },
  {
   "cell_type": "markdown",
   "metadata": {},
   "source": [
    "### Import relevant libraries"
   ]
  },
  {
   "cell_type": "code",
   "execution_count": 1,
   "metadata": {},
   "outputs": [],
   "source": [
    "import pandas as pd\n",
    "import numpy as np\n",
    "from pathlib import Path\n",
    "import csv\n",
    "%matplotlib inline"
   ]
  },
  {
   "cell_type": "markdown",
   "metadata": {},
   "source": [
    "### Declare a path and read in selected CSV file"
   ]
  },
  {
   "cell_type": "code",
   "execution_count": 24,
   "metadata": {},
   "outputs": [],
   "source": [
    "clx_data = Path(\"./clx_data.csv\")\n",
    "sp500_data = Path(\"./sp500.csv\")\n",
    "clx_df = pd.read_csv(clx_data, index_col=\"Date\", infer_datetime_format=True, parse_dates=True)\n",
    "sp_df = pd.read_csv(sp500_data, index_col=\"Date\", infer_datetime_format=True, parse_dates=True)"
   ]
  },
  {
   "cell_type": "markdown",
   "metadata": {},
   "source": [
    "### Print out data"
   ]
  },
  {
   "cell_type": "code",
   "execution_count": 26,
   "metadata": {},
   "outputs": [
    {
     "data": {
      "text/html": [
       "<div>\n",
       "<style scoped>\n",
       "    .dataframe tbody tr th:only-of-type {\n",
       "        vertical-align: middle;\n",
       "    }\n",
       "\n",
       "    .dataframe tbody tr th {\n",
       "        vertical-align: top;\n",
       "    }\n",
       "\n",
       "    .dataframe thead th {\n",
       "        text-align: right;\n",
       "    }\n",
       "</style>\n",
       "<table border=\"1\" class=\"dataframe\">\n",
       "  <thead>\n",
       "    <tr style=\"text-align: right;\">\n",
       "      <th></th>\n",
       "      <th>Close/Last</th>\n",
       "      <th>Volume</th>\n",
       "      <th>Open</th>\n",
       "      <th>High</th>\n",
       "      <th>Low</th>\n",
       "    </tr>\n",
       "    <tr>\n",
       "      <th>Date</th>\n",
       "      <th></th>\n",
       "      <th></th>\n",
       "      <th></th>\n",
       "      <th></th>\n",
       "      <th></th>\n",
       "    </tr>\n",
       "  </thead>\n",
       "  <tbody>\n",
       "    <tr>\n",
       "      <th>2020-03-27</th>\n",
       "      <td>$173.19</td>\n",
       "      <td>2211500</td>\n",
       "      <td>$170.45</td>\n",
       "      <td>$177.43</td>\n",
       "      <td>$168.51</td>\n",
       "    </tr>\n",
       "    <tr>\n",
       "      <th>2020-03-26</th>\n",
       "      <td>$173.11</td>\n",
       "      <td>3706701</td>\n",
       "      <td>$167.96</td>\n",
       "      <td>$175</td>\n",
       "      <td>$167.02</td>\n",
       "    </tr>\n",
       "    <tr>\n",
       "      <th>2020-03-25</th>\n",
       "      <td>$165.66</td>\n",
       "      <td>4572660</td>\n",
       "      <td>$166</td>\n",
       "      <td>$170.48</td>\n",
       "      <td>$161.11</td>\n",
       "    </tr>\n",
       "    <tr>\n",
       "      <th>2020-03-24</th>\n",
       "      <td>$168.32</td>\n",
       "      <td>2929520</td>\n",
       "      <td>$171.42</td>\n",
       "      <td>$175.69</td>\n",
       "      <td>$165.22</td>\n",
       "    </tr>\n",
       "    <tr>\n",
       "      <th>2020-03-23</th>\n",
       "      <td>$170.14</td>\n",
       "      <td>3436981</td>\n",
       "      <td>$176.84</td>\n",
       "      <td>$177.44</td>\n",
       "      <td>$168.54</td>\n",
       "    </tr>\n",
       "  </tbody>\n",
       "</table>\n",
       "</div>"
      ],
      "text/plain": [
       "            Close/Last   Volume      Open      High       Low\n",
       "Date                                                         \n",
       "2020-03-27    $173.19   2211500  $170.45   $177.43   $168.51 \n",
       "2020-03-26    $173.11   3706701  $167.96      $175   $167.02 \n",
       "2020-03-25    $165.66   4572660     $166   $170.48   $161.11 \n",
       "2020-03-24    $168.32   2929520  $171.42   $175.69   $165.22 \n",
       "2020-03-23    $170.14   3436981  $176.84   $177.44   $168.54 "
      ]
     },
     "execution_count": 26,
     "metadata": {},
     "output_type": "execute_result"
    }
   ],
   "source": [
    "clx_df.head()"
   ]
  },
  {
   "cell_type": "markdown",
   "metadata": {},
   "source": [
    "### Make data readable for computations"
   ]
  },
  {
   "cell_type": "code",
   "execution_count": 19,
   "metadata": {},
   "outputs": [],
   "source": [
    "close_df = clx_df[\" Close/Last\"].str.replace(\"$\",\"\").astype(\"float\")\n",
    "open_df = clx_df[\" Open\"].str.replace(\"$\",\"\").astype(\"float\")\n",
    "high_df = clx_df[\" High\"].str.replace(\"$\",\"\").astype(\"float\")\n",
    "low_df = clx_df[\" Low\"].str.replace(\"$\",\"\").astype(\"float\")"
   ]
  },
  {
   "cell_type": "markdown",
   "metadata": {},
   "source": [
    "### Combine corrected dataframes"
   ]
  },
  {
   "cell_type": "code",
   "execution_count": 5,
   "metadata": {},
   "outputs": [
    {
     "data": {
      "text/html": [
       "<div>\n",
       "<style scoped>\n",
       "    .dataframe tbody tr th:only-of-type {\n",
       "        vertical-align: middle;\n",
       "    }\n",
       "\n",
       "    .dataframe tbody tr th {\n",
       "        vertical-align: top;\n",
       "    }\n",
       "\n",
       "    .dataframe thead th {\n",
       "        text-align: right;\n",
       "    }\n",
       "</style>\n",
       "<table border=\"1\" class=\"dataframe\">\n",
       "  <thead>\n",
       "    <tr style=\"text-align: right;\">\n",
       "      <th></th>\n",
       "      <th>Close/Last</th>\n",
       "      <th>Open</th>\n",
       "      <th>High</th>\n",
       "      <th>Low</th>\n",
       "    </tr>\n",
       "    <tr>\n",
       "      <th>Date</th>\n",
       "      <th></th>\n",
       "      <th></th>\n",
       "      <th></th>\n",
       "      <th></th>\n",
       "    </tr>\n",
       "  </thead>\n",
       "  <tbody>\n",
       "    <tr>\n",
       "      <th>2019-03-27</th>\n",
       "      <td>160.33</td>\n",
       "      <td>159.71</td>\n",
       "      <td>160.90</td>\n",
       "      <td>159.37</td>\n",
       "    </tr>\n",
       "    <tr>\n",
       "      <th>2019-03-28</th>\n",
       "      <td>161.31</td>\n",
       "      <td>161.15</td>\n",
       "      <td>161.67</td>\n",
       "      <td>160.53</td>\n",
       "    </tr>\n",
       "    <tr>\n",
       "      <th>2019-03-29</th>\n",
       "      <td>160.46</td>\n",
       "      <td>160.56</td>\n",
       "      <td>161.29</td>\n",
       "      <td>158.89</td>\n",
       "    </tr>\n",
       "    <tr>\n",
       "      <th>2019-04-01</th>\n",
       "      <td>158.54</td>\n",
       "      <td>159.66</td>\n",
       "      <td>160.00</td>\n",
       "      <td>157.52</td>\n",
       "    </tr>\n",
       "    <tr>\n",
       "      <th>2019-04-02</th>\n",
       "      <td>157.64</td>\n",
       "      <td>158.00</td>\n",
       "      <td>158.39</td>\n",
       "      <td>157.16</td>\n",
       "    </tr>\n",
       "  </tbody>\n",
       "</table>\n",
       "</div>"
      ],
      "text/plain": [
       "             Close/Last    Open    High     Low\n",
       "Date                                           \n",
       "2019-03-27       160.33  159.71  160.90  159.37\n",
       "2019-03-28       161.31  161.15  161.67  160.53\n",
       "2019-03-29       160.46  160.56  161.29  158.89\n",
       "2019-04-01       158.54  159.66  160.00  157.52\n",
       "2019-04-02       157.64  158.00  158.39  157.16"
      ]
     },
     "execution_count": 5,
     "metadata": {},
     "output_type": "execute_result"
    }
   ],
   "source": [
    "clx_corrected = pd.concat([close_df, open_df, high_df, low_df], axis='columns', join='inner')\n",
    "clx_corrected.sort_index(inplace=True)\n",
    "clx_corrected.head()"
   ]
  },
  {
   "cell_type": "code",
   "execution_count": 28,
   "metadata": {},
   "outputs": [
    {
     "data": {
      "text/html": [
       "<div>\n",
       "<style scoped>\n",
       "    .dataframe tbody tr th:only-of-type {\n",
       "        vertical-align: middle;\n",
       "    }\n",
       "\n",
       "    .dataframe tbody tr th {\n",
       "        vertical-align: top;\n",
       "    }\n",
       "\n",
       "    .dataframe thead th {\n",
       "        text-align: right;\n",
       "    }\n",
       "</style>\n",
       "<table border=\"1\" class=\"dataframe\">\n",
       "  <thead>\n",
       "    <tr style=\"text-align: right;\">\n",
       "      <th></th>\n",
       "      <th>Close/Last</th>\n",
       "      <th>Volume</th>\n",
       "      <th>Open</th>\n",
       "      <th>High</th>\n",
       "      <th>Low</th>\n",
       "    </tr>\n",
       "    <tr>\n",
       "      <th>Date</th>\n",
       "      <th></th>\n",
       "      <th></th>\n",
       "      <th></th>\n",
       "      <th></th>\n",
       "      <th></th>\n",
       "    </tr>\n",
       "  </thead>\n",
       "  <tbody>\n",
       "    <tr>\n",
       "      <th>2019-03-27</th>\n",
       "      <td>2810.5</td>\n",
       "      <td>32</td>\n",
       "      <td>2821.8</td>\n",
       "      <td>2827.7</td>\n",
       "      <td>2809.0</td>\n",
       "    </tr>\n",
       "    <tr>\n",
       "      <th>2019-03-28</th>\n",
       "      <td>2821.0</td>\n",
       "      <td>53</td>\n",
       "      <td>2807.5</td>\n",
       "      <td>2822.5</td>\n",
       "      <td>2796.9</td>\n",
       "    </tr>\n",
       "    <tr>\n",
       "      <th>2019-03-29</th>\n",
       "      <td>2837.8</td>\n",
       "      <td>47</td>\n",
       "      <td>2822.2</td>\n",
       "      <td>2835.9</td>\n",
       "      <td>2822.2</td>\n",
       "    </tr>\n",
       "    <tr>\n",
       "      <th>2019-04-01</th>\n",
       "      <td>2870.5</td>\n",
       "      <td>133</td>\n",
       "      <td>2841.1</td>\n",
       "      <td>2871.5</td>\n",
       "      <td>2841.1</td>\n",
       "    </tr>\n",
       "    <tr>\n",
       "      <th>2019-04-02</th>\n",
       "      <td>2867.1</td>\n",
       "      <td>13</td>\n",
       "      <td>2865.8</td>\n",
       "      <td>2872.0</td>\n",
       "      <td>2865.8</td>\n",
       "    </tr>\n",
       "  </tbody>\n",
       "</table>\n",
       "</div>"
      ],
      "text/plain": [
       "             Close/Last  Volume    Open    High     Low\n",
       "Date                                                   \n",
       "2019-03-27       2810.5      32  2821.8  2827.7  2809.0\n",
       "2019-03-28       2821.0      53  2807.5  2822.5  2796.9\n",
       "2019-03-29       2837.8      47  2822.2  2835.9  2822.2\n",
       "2019-04-01       2870.5     133  2841.1  2871.5  2841.1\n",
       "2019-04-02       2867.1      13  2865.8  2872.0  2865.8"
      ]
     },
     "execution_count": 28,
     "metadata": {},
     "output_type": "execute_result"
    }
   ],
   "source": [
    "sp_df.sort_index(inplace=True)\n",
    "sp_df.head()"
   ]
  },
  {
   "cell_type": "markdown",
   "metadata": {},
   "source": [
    "### Check for nulls"
   ]
  },
  {
   "cell_type": "code",
   "execution_count": 6,
   "metadata": {},
   "outputs": [
    {
     "data": {
      "text/plain": [
       " Close/Last    0\n",
       " Volume        0\n",
       " Open          0\n",
       " High          0\n",
       " Low           0\n",
       "dtype: int64"
      ]
     },
     "execution_count": 6,
     "metadata": {},
     "output_type": "execute_result"
    }
   ],
   "source": [
    "clx_df.isnull().sum()"
   ]
  },
  {
   "cell_type": "code",
   "execution_count": 29,
   "metadata": {},
   "outputs": [
    {
     "data": {
      "text/plain": [
       " Close/Last    0\n",
       " Volume        0\n",
       " Open          0\n",
       " High          0\n",
       " Low           0\n",
       "dtype: int64"
      ]
     },
     "execution_count": 29,
     "metadata": {},
     "output_type": "execute_result"
    }
   ],
   "source": [
    "sp_df.isnull().sum()"
   ]
  },
  {
   "cell_type": "markdown",
   "metadata": {},
   "source": [
    "### Day-to-day percentage change"
   ]
  },
  {
   "cell_type": "code",
   "execution_count": 35,
   "metadata": {},
   "outputs": [
    {
     "data": {
      "text/html": [
       "<div>\n",
       "<style scoped>\n",
       "    .dataframe tbody tr th:only-of-type {\n",
       "        vertical-align: middle;\n",
       "    }\n",
       "\n",
       "    .dataframe tbody tr th {\n",
       "        vertical-align: top;\n",
       "    }\n",
       "\n",
       "    .dataframe thead th {\n",
       "        text-align: right;\n",
       "    }\n",
       "</style>\n",
       "<table border=\"1\" class=\"dataframe\">\n",
       "  <thead>\n",
       "    <tr style=\"text-align: right;\">\n",
       "      <th></th>\n",
       "      <th>CLX</th>\n",
       "      <th>SP500</th>\n",
       "    </tr>\n",
       "    <tr>\n",
       "      <th>Date</th>\n",
       "      <th></th>\n",
       "      <th></th>\n",
       "    </tr>\n",
       "  </thead>\n",
       "  <tbody>\n",
       "    <tr>\n",
       "      <th>2019-03-27</th>\n",
       "      <td>NaN</td>\n",
       "      <td>NaN</td>\n",
       "    </tr>\n",
       "    <tr>\n",
       "      <th>2019-03-28</th>\n",
       "      <td>0.006112</td>\n",
       "      <td>0.003736</td>\n",
       "    </tr>\n",
       "    <tr>\n",
       "      <th>2019-03-29</th>\n",
       "      <td>-0.005269</td>\n",
       "      <td>0.005955</td>\n",
       "    </tr>\n",
       "    <tr>\n",
       "      <th>2019-04-01</th>\n",
       "      <td>-0.011966</td>\n",
       "      <td>0.011523</td>\n",
       "    </tr>\n",
       "    <tr>\n",
       "      <th>2019-04-02</th>\n",
       "      <td>-0.005677</td>\n",
       "      <td>-0.001184</td>\n",
       "    </tr>\n",
       "  </tbody>\n",
       "</table>\n",
       "</div>"
      ],
      "text/plain": [
       "                 CLX     SP500\n",
       "Date                          \n",
       "2019-03-27       NaN       NaN\n",
       "2019-03-28  0.006112  0.003736\n",
       "2019-03-29 -0.005269  0.005955\n",
       "2019-04-01 -0.011966  0.011523\n",
       "2019-04-02 -0.005677 -0.001184"
      ]
     },
     "execution_count": 35,
     "metadata": {},
     "output_type": "execute_result"
    }
   ],
   "source": [
    "clx_returns = (clx_corrected[\" Close/Last\"].pct_change())\n",
    "sp_returns = (sp_df[\" Close/Last\"].pct_change())\n",
    "\n",
    "clx_sp_returns = pd.concat([clx_returns, sp_returns], axis=\"columns\", join=\"inner\")\n",
    "clx_sp_returns.columns = ['CLX', 'SP500']\n",
    "clx_sp_returns.head()"
   ]
  },
  {
   "cell_type": "markdown",
   "metadata": {},
   "source": [
    "### Evaluate Riskiness By Calculating Annualized Volatility"
   ]
  },
  {
   "cell_type": "code",
   "execution_count": 8,
   "metadata": {},
   "outputs": [
    {
     "data": {
      "text/plain": [
       "'28.42%'"
      ]
     },
     "execution_count": 8,
     "metadata": {},
     "output_type": "execute_result"
    }
   ],
   "source": [
    "riskiness = \"{:.2%}\".format(clx_returns[\" Close/Last\"].std() * np.sqrt(252))\n",
    "riskiness"
   ]
  },
  {
   "cell_type": "markdown",
   "metadata": {},
   "source": [
    "### Stock's Beta"
   ]
  },
  {
   "cell_type": "code",
   "execution_count": 37,
   "metadata": {},
   "outputs": [
    {
     "data": {
      "text/plain": [
       "0.33743733750130905"
      ]
     },
     "execution_count": 37,
     "metadata": {},
     "output_type": "execute_result"
    }
   ],
   "source": [
    "variance = clx_sp_returns['CLX'].var()\n",
    "covariance = clx_sp_returns['CLX'].cov(clx_sp_returns['SP500'])\n",
    "beta = covariance / variance\n",
    "beta"
   ]
  },
  {
   "cell_type": "markdown",
   "metadata": {},
   "source": [
    "### 50, 100, and 200 Day Moving Average\n",
    "##### Plotted against the current close price"
   ]
  },
  {
   "cell_type": "code",
   "execution_count": 47,
   "metadata": {},
   "outputs": [
    {
     "data": {
      "image/png": "[encoded data removed]",
      "text/plain": [
       "<Figure size 432x288 with 2 Axes>"
      ]
     },
     "metadata": {
      "needs_background": "light"
     },
     "output_type": "display_data"
    }
   ],
   "source": [
    "ax1 = clx_corrected[\" Close/Last\"].plot()\n",
    "ax2 = sp_df[\" Close/Last\"].plot(secondary_y=True)\n",
    "\n",
    "clx_corrected[\" Close/Last\"].rolling(window=50).mean().plot(ax=ax1)\n",
    "clx_corrected[\" Close/Last\"].rolling(window=100).mean().plot(ax=ax1)\n",
    "#clx_corrected[\" Close/Last\"].rolling(window=200).mean().plot(ax=ax)\n",
    "\n",
    "ax1.legend(['CLX', \"CLX 50 Day\", \"CLX 100 Day\", \"CLX 200 Day\"]);\n",
    "ax2.legend(['SP500']);"
   ]
  },
  {
   "cell_type": "code",
   "execution_count": null,
   "metadata": {},
   "outputs": [],
   "source": []
  }
 ],
 "metadata": {
  "kernelspec": {
   "display_name": "Python 3",
   "language": "python",
   "name": "python3"
  },
  "language_info": {
   "codemirror_mode": {
    "name": "ipython",
    "version": 3
   },
   "file_extension": ".py",
   "mimetype": "text/x-python",
   "name": "python",
   "nbconvert_exporter": "python",
   "pygments_lexer": "ipython3",
   "version": "3.7.6"
  }
 },
 "nbformat": 4,
 "nbformat_minor": 4
}
